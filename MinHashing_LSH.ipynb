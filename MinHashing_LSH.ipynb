{
  "nbformat": 4,
  "nbformat_minor": 0,
  "metadata": {
    "colab": {
      "provenance": []
    },
    "kernelspec": {
      "name": "python3",
      "display_name": "Python 3"
    },
    "language_info": {
      "name": "python"
    }
  },
  "cells": [
    {
      "cell_type": "code",
      "source": [
        "import numpy as np\n",
        "import random\n",
        "import collections\n",
        "import time\n",
        "from math import floor\n",
        "import matplotlib.pyplot as plt\n",
        "\n",
        "# document variables\n",
        "\n",
        "D = 0 # number of documents\n",
        "W = 0 # number of words in the vocabulary\n",
        "NNZ = 0 # number of non-zero counters in the file\n",
        "\n",
        "# user input variables\n",
        "\n",
        "numDocuments = 5 # here I store how many documents I will read\n",
        "fileName = \"\"\n",
        "numNeighbors = 0\n",
        "K = 20\n",
        "similarity_choice = 0 # 1 : JacSim, 2 : SigSim\n",
        "method_choice = 0 # 1 : Brute force, 2 : LSH\n",
        "rowsPerBand = 0"
      ],
      "metadata": {
        "id": "_c7s_OXVb5MJ"
      },
      "execution_count": 27,
      "outputs": []
    },
    {
      "cell_type": "markdown",
      "source": [
        "The following function reads from a file determined by the parameter 'filename' and returns a list of frozensets, one frozenset for each of the numDocuments documents we read. Each frozenset contains the word id's that the corresponding document is associated with. We read the file line by line and from each line save the document id and the word id. While the document id remains the same (and less than the wanted number of documents we want to read, determined by the value of the parameter 'numDocuments'), I add the new word id I come across to a list. When the document id I come across changes, it is time for the list to be turned into a frozenset and for it to be appended t o a list of all the frozensets."
      ],
      "metadata": {
        "id": "ABNEhOtpmg3h"
      }
    },
    {
      "cell_type": "code",
      "execution_count": 2,
      "metadata": {
        "id": "4_-fsR_I3ZRL"
      },
      "outputs": [],
      "source": [
        "def MyReadDataRoutine(numDocuments, filename):\n",
        "    reader = open(filename, \"r\")\n",
        "    global D, W, NNZ\n",
        "\n",
        "    # number of documents\n",
        "    D = int(reader.readline())\n",
        "    # number of different vocabulary words\n",
        "    W = int(reader.readline())\n",
        "    # number of non-zero counters in the file\n",
        "    NNZ = int(reader.readline())\n",
        "\n",
        "    line = reader.readline().split(' ')[:-1] # get rid of '\\n' character and take only the id's and word count\n",
        "    current_docID = int(line[0])\n",
        "    wordID = int(line[1])\n",
        "    currentWordList = [] # keep list of word id's until we read every id and need to convert to frozenset\n",
        "    currentWordList.append(wordID)\n",
        "    frozenset_list = []\n",
        "\n",
        "    while(current_docID <= numDocuments):\n",
        "        line = reader.readline().split(' ')[:-1] # get rid of '\\n' character and take only the id's and word count\n",
        "\n",
        "        if line == []: # case of EOF\n",
        "            ready_frozenset = frozenset(currentWordList)\n",
        "            frozenset_list.append(ready_frozenset)\n",
        "            break\n",
        "\n",
        "        docID = int(line[0])\n",
        "        wordID = int(line[1])\n",
        "\n",
        "        if(docID == current_docID):\n",
        "            currentWordList.append(wordID)\n",
        "        else:\n",
        "            ready_frozenset = frozenset(currentWordList)\n",
        "            frozenset_list.append(ready_frozenset)\n",
        "            current_docID = docID\n",
        "            currentWordList = [wordID]\n",
        "\n",
        "    return frozenset_list"
      ]
    },
    {
      "cell_type": "code",
      "source": [
        "frozenset_list = MyReadDataRoutine(numDocuments, 'DATA_1-docword.enron.txt')"
      ],
      "metadata": {
        "id": "3yfEvFR7pu-V"
      },
      "execution_count": 6,
      "outputs": []
    },
    {
      "cell_type": "code",
      "source": [
        "print(frozenset_list[0])\n",
        "print(frozenset_list[1])"
      ],
      "metadata": {
        "colab": {
          "base_uri": "https://localhost:8080/"
        },
        "id": "VB6ZIIajp4_P",
        "outputId": "4223f87e-4a10-4237-c4fa-4d7d5c356ce1"
      },
      "execution_count": 7,
      "outputs": [
        {
          "output_type": "stream",
          "name": "stdout",
          "text": [
            "frozenset({25611, 9358, 20240, 27283, 2068, 1688, 6941, 285, 5299, 7223, 9784, 17208, 23481, 13631, 12224, 9667, 8904, 1229, 17872, 23893, 11099, 18139, 14814, 27359, 14816, 11763, 23028, 118, 19190, 12669})\n",
            "frozenset({14338, 9732, 2053, 23557, 17423, 12818, 2068, 536, 9755, 19484, 17955, 20520, 46, 9289, 18505, 17486, 21077, 18522, 9832, 10344, 3182, 3183, 19568, 24174, 12405, 11896, 11897, 1669, 19589, 19613, 4777, 1197, 2233, 26297, 4802, 19651, 14024, 26324, 19675, 19168, 8930, 4843, 9458, 14075, 4860, 1290, 19724, 19725, 7457, 16673, 22310, 21290, 4398, 821, 14649, 13631, 17728, 11585, 20290, 325, 4943, 6993, 15187, 1889, 24436, 24445, 25469, 15231, 5511, 5006, 20366, 20371, 20374, 22934, 21913, 22435, 4516, 25539, 24521, 5066, 8655, 20956, 26076, 20958, 5602, 9707, 23028})\n"
          ]
        }
      ]
    },
    {
      "cell_type": "markdown",
      "source": [
        "Next, we build two different functions for the Jaccard similarity computation. The 'MyJacSimWithSets' function is the naive function which uses a double loop in order to find the number of elements of the intersection of the two document sets. We have a counter for the word id's that are found in both documents and taking advantage of the fact that we can mathematically express the union of the sets using the intersection of them, we compute the Jaccard similarity.\n",
        "\n",
        "The 'MyJacSimWithOrderedLists' works with only one passage from the frozensets, since it sorts the two frozensets in the beginning."
      ],
      "metadata": {
        "id": "j0Jsv1LRqSaX"
      }
    },
    {
      "cell_type": "code",
      "source": [
        "def MyJacSimWithSets(docID1, docID2):\n",
        "    global frozenset_list\n",
        "\n",
        "    frozenset1 = frozenset_list[docID1]\n",
        "    frozenset2 = frozenset_list[docID2]\n",
        "    intersection_counter = 0\n",
        "\n",
        "    for wordID1 in frozenset1:\n",
        "        for wordID2 in frozenset2:\n",
        "            if wordID1 == wordID2:\n",
        "                intersection_counter += 1\n",
        "\n",
        "    return intersection_counter / (len(frozenset1) + len(frozenset2) - intersection_counter)\n",
        "\n",
        "def MyJacSimWithOrderedLists(docID1, docID2):\n",
        "    pos1 = 0\n",
        "    pos2 = 0\n",
        "    intersection_counter = 0\n",
        "\n",
        "    frozenset1 = list(frozenset_list[docID1])\n",
        "    frozenset2 = list(frozenset_list[docID2])\n",
        "\n",
        "    frozenset1.sort()\n",
        "    frozenset2.sort()\n",
        "\n",
        "    len1 = len(frozenset1)\n",
        "    len2 = len(frozenset2)\n",
        "\n",
        "    while(pos1 < len1 and pos2 < len2):\n",
        "        if(frozenset1[pos1] == frozenset2[pos2]):\n",
        "            intersection_counter += 1\n",
        "            pos1 += 1\n",
        "            pos2 += 1\n",
        "        else:\n",
        "            if(frozenset1[pos1] < frozenset2[pos2]):\n",
        "                pos1 += 1\n",
        "            else:\n",
        "                pos2 += 1\n",
        "\n",
        "    return intersection_counter / (len1 + len2 - intersection_counter)"
      ],
      "metadata": {
        "id": "faRIz-NQcVfB"
      },
      "execution_count": 8,
      "outputs": []
    },
    {
      "cell_type": "code",
      "source": [
        "# testing the functions\n",
        "\n",
        "print(MyJacSimWithSets(1,2))\n",
        "print(MyJacSimWithSets(2,2))\n",
        "print(MyJacSimWithOrderedLists(1,2))\n",
        "print(MyJacSimWithOrderedLists(0,2))"
      ],
      "metadata": {
        "colab": {
          "base_uri": "https://localhost:8080/"
        },
        "id": "UYRmNidpcjqM",
        "outputId": "08c37807-226c-497e-b6dc-84f493124ced"
      },
      "execution_count": 9,
      "outputs": [
        {
          "output_type": "stream",
          "name": "stdout",
          "text": [
            "0.02040816326530612\n",
            "1.0\n",
            "0.02040816326530612\n",
            "0.014184397163120567\n"
          ]
        }
      ]
    },
    {
      "cell_type": "markdown",
      "source": [
        "The following cell demonstrates the function \"create_random_permutation()\" which is used to create a permutation of the word id's, that is, a new random index sequence for them to appear in. The permutations are needed in order for the MinHash algorithm to work, as we know."
      ],
      "metadata": {
        "id": "yt0pY9g5uMGO"
      }
    },
    {
      "cell_type": "code",
      "source": [
        "def create_random_hash_function(p=2**33-355, m=2**32-1):\n",
        "    a = random.randint(1,p-1)\n",
        "    b = random.randint(0, p-1)\n",
        "    return lambda x: 1 + (((a * x + b) % p) % m)\n",
        "\n",
        "def create_random_permutation():\n",
        "    global W # number of different vocabulary words\n",
        "\n",
        "    h = create_random_hash_function()\n",
        "    randomHash = { x:h(x) for x in range(W) }\n",
        "\n",
        "    myHashKeysOrderedByValues = sorted(randomHash, key=randomHash.get)\n",
        "    myHash = { myHashKeysOrderedByValues[x] : x for x in range(W)}\n",
        "\n",
        "    return myHash"
      ],
      "metadata": {
        "id": "OSwhJBPatcMG"
      },
      "execution_count": 10,
      "outputs": []
    },
    {
      "cell_type": "markdown",
      "source": [
        "Next up we present the function that constructs the signature matrix. In order to avoid creating a very sparse matrix (the size of numWords * numDocuments cells) which contains a 1 in the cells (r,c) when the word indexed by r appears in the document indexed by c, we construct a matrix wordsList which, in each index wordID contains a list of the id's of the documents in which the word appears. In order to create this matrix, I run through the frozenset list and for each wordID that the corresponding document contains, I append to the list wordList[wordID - 1] the docID of the document.\n",
        "\n",
        "Next up, we create the number of k different permutations using the functions above. Then, we run a time-efficient version of the MinHash algorithm, which only needs to pass through the wordList once, instead of one time for each permutation. We construct a signature matrix, which has a number of rows just as many as the permutations and a number of columns just as many as the documents and initialise all values to -1 which represents infinity. Then, passing through each row of the wordList, for each docID that we find (these IDs correspond to the spots in which this row has 1's), we change the value of the signature matrix spot that corresponds to the docID and the permutation to the permutation value of the wordID, if the permutation value of the wordID is lower than the stored value. This makes sure that when we have passed through the whole wordList, each document will have the lowest value for each permutation.\n",
        "\n",
        "\n"
      ],
      "metadata": {
        "id": "mtJY4pWh-Til"
      }
    },
    {
      "cell_type": "code",
      "source": [
        "def MyMinHash(documentsList, K):\n",
        "    # Create word list\n",
        "\n",
        "    global numDocuments, W\n",
        "\n",
        "    wordsList = [[] for i in range(W)]  # wordList[wordD - 1] contains all the docID's of the documents in which the word is contained\n",
        "\n",
        "    for i in range(numDocuments):\n",
        "        document = documentsList[i] # contains the word ID's of the document\n",
        "\n",
        "        for wordID in document:\n",
        "            wordsList[wordID - 1].append(i + 1) # store the document ID where it belongs\n",
        "\n",
        "   # Create K random permutations\n",
        "\n",
        "    list_of_permutations = []\n",
        "\n",
        "    for i in range(K):\n",
        "        permutation = create_random_permutation()\n",
        "        list_of_permutations.append(permutation)\n",
        "\n",
        "    # Initialise signature matrix\n",
        "\n",
        "    signature_matrix = [[-1 for i in range(numDocuments)] for j in range(K)] # -1 means infinite\n",
        "\n",
        "    # Scan wordsList and create signatures\n",
        "\n",
        "    for row_count, row in enumerate(wordsList):\n",
        "        for col in row:\n",
        "            for perm in range(K):\n",
        "                if list_of_permutations[perm][row_count] < signature_matrix[perm][col - 1] or signature_matrix[perm][col - 1] == -1:\n",
        "                    signature_matrix[perm][col - 1] = list_of_permutations[perm][row_count]\n",
        "\n",
        "    return signature_matrix"
      ],
      "metadata": {
        "id": "3moBGPcy9HBl"
      },
      "execution_count": 11,
      "outputs": []
    },
    {
      "cell_type": "code",
      "source": [
        "sig_m = MyMinHash(frozenset_list, K)"
      ],
      "metadata": {
        "id": "FlCNwho8C398"
      },
      "execution_count": 12,
      "outputs": []
    },
    {
      "cell_type": "markdown",
      "source": [
        "ΜySigSim(): The function that calculates the signature similarity between two different documents. It counts the number of signatures in which the two documents are the same and then divides by the number of permutations used for the similarity calculation.\n",
        "\n",
        "AvgSim(): The function that counts the average similarity that a document has with its numNeighbors closest neighbors. It can work two ways, one way is using the Jaccard similarity and the other is by using the signature similarity. At first, we count the distances of the document from all other documents and then, after sorting, we store a dictionary 'myNeighborsDict' which stores pairs in the form of docID : similarity (1 - distance).\n"
      ],
      "metadata": {
        "id": "OZRMi_oxdDsA"
      }
    },
    {
      "cell_type": "code",
      "source": [
        "def MySigSim(docID1, docID2, numPermutations):\n",
        "    global sig_m\n",
        "    count_of_same_signatures = 0\n",
        "\n",
        "    for i in range(numPermutations):\n",
        "        if sig_m[i][docID1] == sig_m[i][docID2]:\n",
        "            count_of_same_signatures += 1\n",
        "\n",
        "    return count_of_same_signatures / numPermutations\n",
        "\n",
        "def AvgSim(docID, numNeighbors, case = 1):\n",
        "    global K\n",
        "    distances = {i : 0 for i in range(numDocuments)}\n",
        "\n",
        "    if case == 1: # Jaccard Similarity\n",
        "\n",
        "        for i in range(numDocuments):\n",
        "            distances[i] = (1 - MyJacSimWithOrderedLists(docID, i))\n",
        "\n",
        "    elif case == 2: # Signature Similarity\n",
        "\n",
        "        for i in range(numDocuments):\n",
        "            distances[i] = (1 - MySigSim(docID, i, K))\n",
        "\n",
        "\n",
        "    distances = {k: v for k, v in sorted(distances.items(), key=lambda item: item[1])}\n",
        "\n",
        "    myNeighborsDict = {k: (1 - distances[k]) for k in list(distances)[:numNeighbors]}\n",
        "    similarities = list(myNeighborsDict.values())\n",
        "    avgSim = 0\n",
        "\n",
        "    for i in range(numNeighbors):\n",
        "        avgSim += similarities[i]\n",
        "\n",
        "    avgSim = avgSim / numNeighbors\n",
        "\n",
        "    return avgSim, myNeighborsDict"
      ],
      "metadata": {
        "id": "pR1wkMwCc4yX"
      },
      "execution_count": 35,
      "outputs": []
    },
    {
      "cell_type": "code",
      "source": [
        "# testing how close the average and closest-neighbor similarity values are\n",
        "# when computed using jaccard/signature similarity\n",
        "\n",
        "jaccard_res = AvgSim(docID = 3, numNeighbors = 3, case = 1) # Jaccard similarity\n",
        "print(jaccard_res[0], jaccard_res[1])\n",
        "\n",
        "sig_res = AvgSim(docID = 3, numNeighbors = 3, case = 2) # Signature similarity\n",
        "print(sig_res[0], sig_res[1])"
      ],
      "metadata": {
        "colab": {
          "base_uri": "https://localhost:8080/"
        },
        "id": "WkfiSbUgeqJr",
        "outputId": "8dd61882-3be9-494a-b6f9-9089a113b86c"
      },
      "execution_count": 14,
      "outputs": [
        {
          "output_type": "stream",
          "name": "stdout",
          "text": [
            "0.3511314920233326 {3: 1.0, 1: 0.040322580645161255, 2: 0.013071895424836555}\n",
            "0.35000000000000003 {3: 1.0, 2: 0.050000000000000044, 0: 0.0}\n"
          ]
        }
      ]
    },
    {
      "cell_type": "markdown",
      "source": [
        "LSH_calculations: the function that encapsulates the calculations of the LSH algorithm. It starts by calculating the number of bands that will be created according to the rows per band that is given. Then, for each band, we extract the signature vector that corresponds to each document in order to hash it. We store the hash values for each band. Then, we find all possible pairs of documents that need to be checked (note: possible pairs are pairs of documents whose signature was hashed in the same bucket for at least one band). It is important that we also count the number of times a document appears in a possible pair, so that we make sure it is over the 'numNeighbors' threshold. The function returns the potential pairs and a list of the number of times each documents appeared in a potential pair.\n",
        "\n",
        "The LSH function is parameterised by an initial choice for the number of rows per band and uses the LSH_calculations function according to this value. If the calculations function finds that at least on document has less than the numNeighbors number of potential pairs, then the calculations function is repeated for half the number of rows per band (which of course makes it easier for band vectors to match).\n",
        "\n",
        "Once the above process is completed and we get enough pairs for all documents, we proceed to calculate the similarities of each pair, according to the choice of similarity function. We return a list of the average similarity of each document to its nearest numNeighbors and a list of the nearest neighbors of each document, paired with the corresponding distance between them.\n",
        "\n",
        "\n",
        "\n"
      ],
      "metadata": {
        "id": "x30aBHeTPdiZ"
      }
    },
    {
      "cell_type": "code",
      "source": [
        "def LSH_calculations(sig_sim_matrix, rowsPerBand):\n",
        "    global K\n",
        "    global numNeighbors\n",
        "    global numDocuments\n",
        "\n",
        "    numBands = floor(K / rowsPerBand)\n",
        "    num_of_rows_in_final_band = rowsPerBand + K - (rowsPerBand * numBands)\n",
        "\n",
        "    h = create_random_hash_function()\n",
        "\n",
        "    LSHdicts = []\n",
        "\n",
        "    starting_row = 0 # here I store where each band begins while I build LSHdicts\n",
        "\n",
        "    for band_number in range(numBands):\n",
        "        band_dict = {}\n",
        "\n",
        "        for docID in range(numDocuments):\n",
        "\n",
        "            if band_number != numBands - 1:\n",
        "                doc_vector_in_this_band = [row[docID] for row in sig_sim_matrix[starting_row : starting_row + rowsPerBand]]\n",
        "            else:\n",
        "                doc_vector_in_this_band = [row[docID] for row in sig_sim_matrix[starting_row : starting_row + num_of_rows_in_final_band]]\n",
        "\n",
        "            string_vector = [str(i) for i in doc_vector_in_this_band]\n",
        "            doc_vector_in_this_band = int(\"\".join(string_vector))\n",
        "            band_dict[docID] = h(doc_vector_in_this_band)\n",
        "\n",
        "\n",
        "        LSHdicts.append(band_dict)\n",
        "        starting_row += rowsPerBand\n",
        "\n",
        "    potential_pairs = []\n",
        "    doc_counters = {i : 0 for i in range(numDocuments)}\n",
        "\n",
        "    for i in range(len(LSHdicts)):\n",
        "        band_dict = LSHdicts[i]\n",
        "        band_dict = {k: v for k, v in sorted(band_dict.items(), key=lambda item: item[1])}\n",
        "        band_keys = list(band_dict.keys())\n",
        "        band_values = list(band_dict.values())\n",
        "\n",
        "        pointer1 = 0\n",
        "        pointer2 = 1\n",
        "\n",
        "        while(pointer2 < len(band_values)):\n",
        "            if band_values[pointer1] == band_values[pointer2]:\n",
        "                 indices_of_same_values = [pointer1, pointer2] # will need to keep all consecutive same values, in order to create all pairs\n",
        "                 pointer2 += 1\n",
        "\n",
        "                 if pointer2 == len(band_values):\n",
        "                     pointer2 -= 1\n",
        "\n",
        "                 while band_values[pointer1] == band_values[pointer2] :\n",
        "                        indices_of_same_values.append(pointer2)\n",
        "                        pointer2 += 1\n",
        "\n",
        "                        if pointer2 == len(band_values):\n",
        "                            break\n",
        "\n",
        "                 all_possible_pairs = [(band_keys[a], band_keys[b]) for idx, a in enumerate(indices_of_same_values) for b in indices_of_same_values[idx + 1:]]\n",
        "\n",
        "                 for pair in all_possible_pairs:\n",
        "                     if pair not in potential_pairs:\n",
        "                         potential_pairs.append(pair)\n",
        "                         doc_counters[pair[0]] += 1\n",
        "                         doc_counters[pair[1]] += 1\n",
        "\n",
        "                 pointer2 += 1\n",
        "                 pointer1 = pointer2 - 1\n",
        "            else:\n",
        "                pointer1 += 1\n",
        "                pointer2 += 1\n",
        "\n",
        "    return potential_pairs, doc_counters\n",
        "\n",
        "def LSH(sig_sim_matrix, rowsPerBand, choice):\n",
        "    global K\n",
        "    global numNeighbors\n",
        "    global numDocuments\n",
        "    repeat = 1\n",
        "\n",
        "    while repeat == 1:\n",
        "        potential_pairs, doc_counts = LSH_calculations(sig_sim_matrix, rowsPerBand)\n",
        "        repeat = 0\n",
        "\n",
        "        for i in range(numDocuments):\n",
        "            if doc_counts[i] < numNeighbors:\n",
        "                print(\"Found documents with less than\", numNeighbors, \"potential pairs, restarting LSH for\", rowsPerBand // 2, \"rows per band.\")\n",
        "                repeat = 1\n",
        "                break\n",
        "\n",
        "        rowsPerBand = rowsPerBand // 2\n",
        "\n",
        "    # keep tuples in the form of (neighbor, similarity) for each document\n",
        "    nearest_neighbors_dict = { i : [] for i in range(numDocuments)}\n",
        "\n",
        "\n",
        "    if choice == 1:\n",
        "        for pair in potential_pairs:\n",
        "            jac_sim = MyJacSimWithOrderedLists(pair[0],pair[1])\n",
        "            nearest_neighbors_dict[pair[0]].append((pair[1],jac_sim))\n",
        "            nearest_neighbors_dict[pair[1]].append((pair[0],jac_sim))\n",
        "    elif choice == 2:\n",
        "        for pair in potential_pairs:\n",
        "            sig_sim = MySigSim(pair[0],pair[1],K)\n",
        "            nearest_neighbors_dict[pair[0]].append((pair[1],sig_sim))\n",
        "            nearest_neighbors_dict[pair[1]].append((pair[0],sig_sim))\n",
        "\n",
        "\n",
        "    # take into consideration the nearest neighbors only\n",
        "\n",
        "    average_similarities = { i : 0 for i in range(numDocuments) }\n",
        "\n",
        "    for i in range(numDocuments):\n",
        "          similarities = [nearest_neighbors_dict[i][j][1] for j in range(len(nearest_neighbors_dict[i]))]\n",
        "          similarities = np.array(similarities)\n",
        "\n",
        "          indices = np.argpartition(similarities, -numNeighbors)[-numNeighbors:] # indices of (numNeighbors) biggest similarities\n",
        "          new_neighbors = []\n",
        "          average_sim = 0\n",
        "\n",
        "          for j in indices:\n",
        "                average_similarities[i] += nearest_neighbors_dict[i][j][1]\n",
        "                new_neighbors.append(nearest_neighbors_dict[i][j])\n",
        "\n",
        "          average_similarities[i] = average_similarities[i] / numNeighbors\n",
        "          nearest_neighbors_dict[i] = new_neighbors\n",
        "\n",
        "    return average_similarities, nearest_neighbors_dict\n"
      ],
      "metadata": {
        "id": "cvLNc_puI2u9"
      },
      "execution_count": 15,
      "outputs": []
    },
    {
      "cell_type": "code",
      "source": [
        "# Constructing a new signature matrix, for more documents than we had initially, with a bigger number\n",
        "# of permutations K (for more precision in the signature similarity)\n",
        "\n",
        "numDocuments = 500 # here I store how many documents I will read\n",
        "numNeighbors = 2\n",
        "K = 512\n",
        "similarity_choice = 2 # 1 : JacSim, 2 : SigSim\n",
        "rowsPerBand = 128"
      ],
      "metadata": {
        "id": "lDCZ1_4GOshP"
      },
      "execution_count": 16,
      "outputs": []
    },
    {
      "cell_type": "code",
      "source": [
        "frozenset_list = MyReadDataRoutine(numDocuments, 'DATA_1-docword.enron.txt')"
      ],
      "metadata": {
        "id": "sFR706ynYJg5"
      },
      "execution_count": 17,
      "outputs": []
    },
    {
      "cell_type": "code",
      "source": [
        "sig_m = MyMinHash(frozenset_list, K)"
      ],
      "metadata": {
        "id": "z6vWWoNXYLlK"
      },
      "execution_count": 18,
      "outputs": []
    },
    {
      "cell_type": "code",
      "source": [
        "avg_similarities, neighbors_dict = LSH(sig_m, rowsPerBand, similarity_choice)"
      ],
      "metadata": {
        "colab": {
          "base_uri": "https://localhost:8080/"
        },
        "id": "zIowYrddYZdU",
        "outputId": "c8bf7988-2edb-4448-ffd8-71cf38bfbc32"
      },
      "execution_count": 19,
      "outputs": [
        {
          "output_type": "stream",
          "name": "stdout",
          "text": [
            "Found documents with less than 2 potential pairs, restarting LSH for 64 rows per band.\n",
            "Found documents with less than 2 potential pairs, restarting LSH for 32 rows per band.\n",
            "Found documents with less than 2 potential pairs, restarting LSH for 16 rows per band.\n",
            "Found documents with less than 2 potential pairs, restarting LSH for 8 rows per band.\n",
            "Found documents with less than 2 potential pairs, restarting LSH for 4 rows per band.\n",
            "Found documents with less than 2 potential pairs, restarting LSH for 2 rows per band.\n",
            "Found documents with less than 2 potential pairs, restarting LSH for 1 rows per band.\n"
          ]
        }
      ]
    },
    {
      "cell_type": "markdown",
      "source": [
        "We notice that the LSH algorithm repeated itself multiple times, because there were documents which weren't matched to the same bin as at least two other documents for different values of rows per band (64, 32, 16, 8, 4). For 2 rows per band, it seems all documents were matched to the same bin with at least two other documents, so they had at least two potential neighbors as we required. We will now print the 2-nearest neighbor dictionaries of some random documents in order to see with which documents they were matched and how precise the signature simularity calculations were in accordance with the corresponding jaccard similarity between the same documents."
      ],
      "metadata": {
        "id": "_tow9_0m6gqu"
      }
    },
    {
      "cell_type": "code",
      "source": [
        "print(neighbors_dict[3])"
      ],
      "metadata": {
        "colab": {
          "base_uri": "https://localhost:8080/"
        },
        "id": "SK0r-BMFp8Wo",
        "outputId": "84f124e1-a29a-4d23-8c06-40b5503dcdc8"
      },
      "execution_count": 20,
      "outputs": [
        {
          "output_type": "stream",
          "name": "stdout",
          "text": [
            "[(368, 0.298828125), (369, 0.943359375)]\n"
          ]
        }
      ]
    },
    {
      "cell_type": "code",
      "source": [
        "print(MyJacSimWithOrderedLists(3,368))\n",
        "print(MyJacSimWithOrderedLists(3,369))"
      ],
      "metadata": {
        "colab": {
          "base_uri": "https://localhost:8080/"
        },
        "id": "eNeypAFPq1WS",
        "outputId": "03babfcc-35e1-4748-dd1e-f73b6dae42e7"
      },
      "execution_count": 21,
      "outputs": [
        {
          "output_type": "stream",
          "name": "stdout",
          "text": [
            "0.3\n",
            "0.9523809523809523\n"
          ]
        }
      ]
    },
    {
      "cell_type": "code",
      "source": [
        "print(neighbors_dict[400])"
      ],
      "metadata": {
        "colab": {
          "base_uri": "https://localhost:8080/"
        },
        "id": "K28vQ7oD7glf",
        "outputId": "4c207d9b-31b3-4faa-93bf-4a39d1878507"
      },
      "execution_count": 22,
      "outputs": [
        {
          "output_type": "stream",
          "name": "stdout",
          "text": [
            "[(250, 0.072265625), (268, 0.080078125)]\n"
          ]
        }
      ]
    },
    {
      "cell_type": "code",
      "source": [
        "print(MyJacSimWithOrderedLists(400,268))\n",
        "print(MyJacSimWithOrderedLists(400,367))"
      ],
      "metadata": {
        "colab": {
          "base_uri": "https://localhost:8080/"
        },
        "id": "vqbn4QYZ7ldS",
        "outputId": "53fc73be-adc5-4441-ae12-e210b1150b69"
      },
      "execution_count": 23,
      "outputs": [
        {
          "output_type": "stream",
          "name": "stdout",
          "text": [
            "0.06666666666666667\n",
            "0.045454545454545456\n"
          ]
        }
      ]
    },
    {
      "cell_type": "markdown",
      "source": [
        "# **Experiment 1**\n",
        "\n",
        "We conduct LSH using signature similarity and change the number of documents we read in each experiment, while keeping the K, rowsPerBand and numNeighbors parameters at the same value for each experiment.\n",
        "\n"
      ],
      "metadata": {
        "id": "OtgRplrAR1JU"
      }
    },
    {
      "cell_type": "code",
      "source": [
        "num_documents = [100, 200, 300, 400, 500, 600, 700]\n",
        "numNeighbors = 2\n",
        "K = 64\n",
        "similarity_choice = 2 # 1 : JacSim, 2 : SigSim\n",
        "rowsPerBand = 32\n",
        "time_to_complete = []\n",
        "\n",
        "for value in num_documents:\n",
        "  numDocuments = value\n",
        "  frozenset_list = MyReadDataRoutine(value, 'DATA_1-docword.enron.txt')\n",
        "  start_time = time.time()\n",
        "  sig_m = MyMinHash(frozenset_list, K)\n",
        "  avg_similarities, neighbors_dict = LSH(sig_m, rowsPerBand, similarity_choice)\n",
        "  end_time = time.time()\n",
        "  time_to_complete.append(end_time - start_time)"
      ],
      "metadata": {
        "colab": {
          "base_uri": "https://localhost:8080/"
        },
        "id": "iNilPYHC-sEl",
        "outputId": "0dcf4d04-9619-44c7-b154-af8da4ee87e8"
      },
      "execution_count": 35,
      "outputs": [
        {
          "output_type": "stream",
          "name": "stdout",
          "text": [
            "Found documents with less than 2 potential pairs, restarting LSH for 16 rows per band.\n",
            "Found documents with less than 2 potential pairs, restarting LSH for 8 rows per band.\n",
            "Found documents with less than 2 potential pairs, restarting LSH for 4 rows per band.\n",
            "Found documents with less than 2 potential pairs, restarting LSH for 2 rows per band.\n",
            "Found documents with less than 2 potential pairs, restarting LSH for 1 rows per band.\n",
            "Found documents with less than 2 potential pairs, restarting LSH for 16 rows per band.\n",
            "Found documents with less than 2 potential pairs, restarting LSH for 8 rows per band.\n",
            "Found documents with less than 2 potential pairs, restarting LSH for 4 rows per band.\n",
            "Found documents with less than 2 potential pairs, restarting LSH for 2 rows per band.\n",
            "Found documents with less than 2 potential pairs, restarting LSH for 1 rows per band.\n",
            "Found documents with less than 2 potential pairs, restarting LSH for 16 rows per band.\n",
            "Found documents with less than 2 potential pairs, restarting LSH for 8 rows per band.\n",
            "Found documents with less than 2 potential pairs, restarting LSH for 4 rows per band.\n",
            "Found documents with less than 2 potential pairs, restarting LSH for 2 rows per band.\n",
            "Found documents with less than 2 potential pairs, restarting LSH for 1 rows per band.\n",
            "Found documents with less than 2 potential pairs, restarting LSH for 16 rows per band.\n",
            "Found documents with less than 2 potential pairs, restarting LSH for 8 rows per band.\n",
            "Found documents with less than 2 potential pairs, restarting LSH for 4 rows per band.\n",
            "Found documents with less than 2 potential pairs, restarting LSH for 2 rows per band.\n",
            "Found documents with less than 2 potential pairs, restarting LSH for 1 rows per band.\n",
            "Found documents with less than 2 potential pairs, restarting LSH for 16 rows per band.\n",
            "Found documents with less than 2 potential pairs, restarting LSH for 8 rows per band.\n",
            "Found documents with less than 2 potential pairs, restarting LSH for 4 rows per band.\n",
            "Found documents with less than 2 potential pairs, restarting LSH for 2 rows per band.\n",
            "Found documents with less than 2 potential pairs, restarting LSH for 1 rows per band.\n",
            "Found documents with less than 2 potential pairs, restarting LSH for 16 rows per band.\n",
            "Found documents with less than 2 potential pairs, restarting LSH for 8 rows per band.\n",
            "Found documents with less than 2 potential pairs, restarting LSH for 4 rows per band.\n",
            "Found documents with less than 2 potential pairs, restarting LSH for 2 rows per band.\n",
            "Found documents with less than 2 potential pairs, restarting LSH for 1 rows per band.\n",
            "Found documents with less than 2 potential pairs, restarting LSH for 16 rows per band.\n",
            "Found documents with less than 2 potential pairs, restarting LSH for 8 rows per band.\n",
            "Found documents with less than 2 potential pairs, restarting LSH for 4 rows per band.\n",
            "Found documents with less than 2 potential pairs, restarting LSH for 2 rows per band.\n",
            "Found documents with less than 2 potential pairs, restarting LSH for 1 rows per band.\n"
          ]
        }
      ]
    },
    {
      "cell_type": "code",
      "source": [
        "plt.figure(figsize=(8,5))\n",
        "plt.plot(num_documents, time_to_complete)\n",
        "plt.title('LSH with numNeighbors = 2, K = 64, signature similarity computation and rowsPerBand = 32')\n",
        "plt.xlabel('Number of documents')\n",
        "plt.ylabel('Time to complete LSH (sec)')\n",
        "plt.show()"
      ],
      "metadata": {
        "colab": {
          "base_uri": "https://localhost:8080/",
          "height": 487
        },
        "id": "V6UkEzzzSq9-",
        "outputId": "edd39788-cfb6-4249-a295-c194f8b39e8a"
      },
      "execution_count": 41,
      "outputs": [
        {
          "output_type": "display_data",
          "data": {
            "text/plain": [
              "<Figure size 800x500 with 1 Axes>"
            ],
            "image/png": "[encoded data removed]"
          },
          "metadata": {}
        }
      ]
    },
    {
      "cell_type": "markdown",
      "source": [
        "# **Experiment 2**\n",
        "\n",
        "We conduct LSH computation using signature similarity for a steady number of documents, changing how many number of permutations K we use. Then, we compute the total absolute error (distance) between each document's signature similarity with its numNeighbors = 2 nearest neighbors and the jaccard similarity of the document and its two nearest neighbors. We want to evaluate how much the parameter K affects precision.\n",
        "\n"
      ],
      "metadata": {
        "id": "niF-UneXp7fN"
      }
    },
    {
      "cell_type": "code",
      "source": [
        "num_documents =  500\n",
        "numNeighbors = 2\n",
        "K_values = [10, 18, 26, 34, 42, 50]\n",
        "similarity_choice = 2 # 1 : JacSim, 2 : SigSim\n",
        "rowsPerBand = 4\n",
        "total_error_values = []\n",
        "\n",
        "for K in K_values:\n",
        "  numDocuments = value\n",
        "  frozenset_list = MyReadDataRoutine(value, 'DATA_1-docword.enron.txt')\n",
        "  sig_m = MyMinHash(frozenset_list, K)\n",
        "  avg_similarities, neighbors_dict = LSH(sig_m, rowsPerBand, similarity_choice)\n",
        "  total_error = 0\n",
        "  for doc in neighbors_dict.keys():\n",
        "    neighbors = neighbors_dict[doc]\n",
        "\n",
        "    for t in neighbors:\n",
        "      jac_sim = MyJacSimWithOrderedLists(doc, t[0])\n",
        "      difference = abs(jac_sim - t[1])\n",
        "      total_error += difference\n",
        "\n",
        "  total_error_values.append(total_error)\n",
        ""
      ],
      "metadata": {
        "colab": {
          "base_uri": "https://localhost:8080/"
        },
        "id": "e5DgxcGT1CV1",
        "outputId": "25d23287-3c29-4464-b4a1-29bc9419342d"
      },
      "execution_count": 49,
      "outputs": [
        {
          "output_type": "stream",
          "name": "stdout",
          "text": [
            "Found documents with less than 2 potential pairs, restarting LSH for 2 rows per band.\n",
            "Found documents with less than 2 potential pairs, restarting LSH for 1 rows per band.\n",
            "Found documents with less than 2 potential pairs, restarting LSH for 2 rows per band.\n",
            "Found documents with less than 2 potential pairs, restarting LSH for 1 rows per band.\n",
            "Found documents with less than 2 potential pairs, restarting LSH for 2 rows per band.\n",
            "Found documents with less than 2 potential pairs, restarting LSH for 1 rows per band.\n",
            "Found documents with less than 2 potential pairs, restarting LSH for 2 rows per band.\n",
            "Found documents with less than 2 potential pairs, restarting LSH for 1 rows per band.\n",
            "Found documents with less than 2 potential pairs, restarting LSH for 2 rows per band.\n",
            "Found documents with less than 2 potential pairs, restarting LSH for 1 rows per band.\n",
            "Found documents with less than 2 potential pairs, restarting LSH for 2 rows per band.\n",
            "Found documents with less than 2 potential pairs, restarting LSH for 1 rows per band.\n"
          ]
        }
      ]
    },
    {
      "cell_type": "code",
      "source": [
        "plt.figure(figsize=(8,5))\n",
        "plt.plot(K_values, total_error_values)\n",
        "plt.title('LSH with numNeighbors = 2, variant K, numDocuments = 100, signature similarity computation and rowsPerBand = 4')\n",
        "plt.xlabel('Number of permutations K')\n",
        "plt.ylabel('Total error (distance between jaccard similarity and signature similarity)')\n",
        "plt.show()"
      ],
      "metadata": {
        "colab": {
          "base_uri": "https://localhost:8080/",
          "height": 419
        },
        "id": "Fa1Ftvld3mcM",
        "outputId": "169f3521-87c3-4c83-c678-eb4f3d0fd77a"
      },
      "execution_count": 50,
      "outputs": [
        {
          "output_type": "display_data",
          "data": {
            "text/plain": [
              "<Figure size 800x500 with 1 Axes>"
            ],
            "image/png": "[encoded data removed]"
          },
          "metadata": {}
        }
      ]
    }
  ]
}